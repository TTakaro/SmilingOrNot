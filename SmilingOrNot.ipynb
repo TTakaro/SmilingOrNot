{
 "cells": [
  {
   "cell_type": "markdown",
   "id": "c0fdb5a0",
   "metadata": {},
   "source": [
    "# Image classifier to see if a person is smiling"
   ]
  },
  {
   "cell_type": "code",
   "execution_count": 1,
   "id": "e5af8711",
   "metadata": {},
   "outputs": [
    {
     "name": "stderr",
     "output_type": "stream",
     "text": [
      "2023-07-28 15:23:37.853391: I tensorflow/core/platform/cpu_feature_guard.cc:182] This TensorFlow binary is optimized to use available CPU instructions in performance-critical operations.\n",
      "To enable the following instructions: AVX2 FMA, in other operations, rebuild TensorFlow with the appropriate compiler flags.\n"
     ]
    }
   ],
   "source": [
    "import numpy as np\n",
    "import matplotlib.pyplot as plt\n",
    "import pandas as pd\n",
    "import sklearn as sk\n",
    "import tensorflow as tf\n",
    "from tensorflow import keras\n",
    "from tensorflow.keras.preprocessing.image import ImageDataGenerator"
   ]
  },
  {
   "cell_type": "code",
   "execution_count": 2,
   "id": "2a8c8fb8",
   "metadata": {},
   "outputs": [
    {
     "name": "stdout",
     "output_type": "stream",
     "text": [
      "Found 1203 files belonging to 2 classes.\n",
      "Found 12030 files belonging to 1 classes.\n"
     ]
    }
   ],
   "source": [
    "# Lets load in our data set and mix em up a bit\n",
    "seed_train_validation = 1 # Seed for repeatability\n",
    "\n",
    "train_datagen = ImageDataGenerator(rescale=1.0/255,\n",
    "                                  zoom_range=0.2,\n",
    "                                  shear_range=0.2,\n",
    "                                  rotation_range=10,\n",
    "                                  width_shift_range=0.2,\n",
    "                                  height_shift_range=0.2,\n",
    "                                  horizontal_flip=True,\n",
    "                                  fill_mode='nearest')\n",
    "\n",
    "# Load our training dataset\n",
    "train_val_ds = keras.utils.image_dataset_from_directory(\n",
    "    directory ='/Users/tktakaro/Documents/ML_Projects/SmilingOrNot/train',\n",
    "    image_size = (150,150),\n",
    "    seed = seed_train_validation,\n",
    "    color_mode='rgb',\n",
    "    label_mode = 'categorical',\n",
    "    batch_size=32,\n",
    "    shuffle = True)\n",
    "\n",
    "\n",
    "test_datagen = ImageDataGenerator(rescale=1./255)\n",
    "# Load our test dataset\n",
    "test_ds = keras.utils.image_dataset_from_directory(\n",
    "    directory ='/Users/tktakaro/Documents/ML_Projects/SmilingOrNot/test',\n",
    "    image_size = (150,150),\n",
    "    seed = seed_train_validation,\n",
    "    labels=None,\n",
    "    batch_size=32,\n",
    "    color_mode = 'rgb',\n",
    "    shuffle = True)"
   ]
  },
  {
   "cell_type": "markdown",
   "id": "17756fcd",
   "metadata": {},
   "source": [
    "## Unfortunately test dataset is unlabeled. Can't use for accuracy estimate"
   ]
  },
  {
   "cell_type": "code",
   "execution_count": 3,
   "id": "4271f51f",
   "metadata": {},
   "outputs": [],
   "source": [
    "# Split the test dataset in thirds to give us a validation dataset too\n",
    "batches = tf.data.experimental.cardinality(train_val_ds) # How many files in test dataset?\n",
    "train_ds = train_val_ds.take((2 * batches) // 3)\n",
    "val_ds = train_val_ds.skip((2 * batches) // 3)"
   ]
  },
  {
   "cell_type": "code",
   "execution_count": 4,
   "id": "eb125cdf",
   "metadata": {},
   "outputs": [
    {
     "name": "stdout",
     "output_type": "stream",
     "text": [
      "Epoch 1/10\n",
      "25/25 [==============================] - 35s 1s/step - loss: 1.5850 - accuracy: 0.7875 - val_loss: 0.1842 - val_accuracy: 0.9429\n",
      "Epoch 2/10\n",
      "25/25 [==============================] - 33s 1s/step - loss: 0.1157 - accuracy: 0.9638 - val_loss: 0.1106 - val_accuracy: 0.9752\n",
      "Epoch 3/10\n",
      "25/25 [==============================] - 33s 1s/step - loss: 0.0343 - accuracy: 0.9837 - val_loss: 0.0766 - val_accuracy: 0.9777\n",
      "Epoch 4/10\n",
      "25/25 [==============================] - 34s 1s/step - loss: 0.0305 - accuracy: 0.9912 - val_loss: 0.0787 - val_accuracy: 0.9801\n",
      "Epoch 5/10\n",
      "25/25 [==============================] - 34s 1s/step - loss: 0.0175 - accuracy: 0.9950 - val_loss: 0.1062 - val_accuracy: 0.9752\n",
      "Epoch 6/10\n",
      "25/25 [==============================] - 33s 1s/step - loss: 0.0109 - accuracy: 0.9950 - val_loss: 0.0785 - val_accuracy: 0.9826\n",
      "Epoch 7/10\n",
      "25/25 [==============================] - 34s 1s/step - loss: 0.0208 - accuracy: 0.9937 - val_loss: 0.2487 - val_accuracy: 0.9479\n",
      "Epoch 8/10\n",
      "25/25 [==============================] - 34s 1s/step - loss: 0.0102 - accuracy: 0.9962 - val_loss: 0.0925 - val_accuracy: 0.9801\n",
      "Epoch 9/10\n",
      "25/25 [==============================] - 35s 1s/step - loss: 0.0074 - accuracy: 0.9950 - val_loss: 0.1602 - val_accuracy: 0.9677\n",
      "Epoch 10/10\n",
      "25/25 [==============================] - 34s 1s/step - loss: 0.0046 - accuracy: 0.9987 - val_loss: 0.0769 - val_accuracy: 0.9851\n"
     ]
    },
    {
     "data": {
      "text/plain": [
       "<keras.src.callbacks.History at 0x7f9a47cae4d0>"
      ]
     },
     "execution_count": 4,
     "metadata": {},
     "output_type": "execute_result"
    }
   ],
   "source": [
    "# First, use ResNet as a base model\n",
    "base_model = keras.applications.ResNet50(weights='imagenet', include_top = False, input_shape=(150,150,3))\n",
    "# Freeze layers from base_model to only train new specialized layers for this problem\n",
    "for layer in base_model.layers:\n",
    "    layer.trainable = False\n",
    "        \n",
    "# Build up layers\n",
    "x = base_model.output    \n",
    "x = (keras.layers.Dropout(0.2))(x)    \n",
    "x = keras.layers.Flatten()(x)\n",
    "# Two categories: Smiling or Not\n",
    "predictions = keras.layers.Dense(2, activation = 'softmax')(x)\n",
    "\n",
    "# Set up and compile model\n",
    "model = keras.models.Model(inputs = base_model.input , outputs =  predictions)\n",
    "    \n",
    "model.compile(optimizer='Nadam', loss = 'categorical_crossentropy', metrics = ['accuracy'])\n",
    "\n",
    "# Run the fit\n",
    "model.fit(train_ds, \n",
    "    epochs = 10 , validation_data=val_ds,\n",
    "    steps_per_epoch = len(train_ds),\n",
    "    validation_steps=len(val_ds),)"
   ]
  },
  {
   "cell_type": "markdown",
   "id": "c65ea4b0",
   "metadata": {},
   "source": [
    "### Further optimization beyond 98% validation accuracy is unnecessary, especially given small dataset"
   ]
  },
  {
   "cell_type": "code",
   "execution_count": null,
   "id": "0853761c",
   "metadata": {},
   "outputs": [],
   "source": []
  }
 ],
 "metadata": {
  "kernelspec": {
   "display_name": "Python 3 (ipykernel)",
   "language": "python",
   "name": "python3"
  },
  "language_info": {
   "codemirror_mode": {
    "name": "ipython",
    "version": 3
   },
   "file_extension": ".py",
   "mimetype": "text/x-python",
   "name": "python",
   "nbconvert_exporter": "python",
   "pygments_lexer": "ipython3",
   "version": "3.10.9"
  }
 },
 "nbformat": 4,
 "nbformat_minor": 5
}
